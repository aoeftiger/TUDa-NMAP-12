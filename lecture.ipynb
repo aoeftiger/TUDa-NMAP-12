{
 "cells": [
  {
   "cell_type": "markdown",
   "id": "38250724",
   "metadata": {
    "slideshow": {
     "slide_type": "slide"
    }
   },
   "source": [
    "<h1 style=\"text-align: center; vertical-align: middle;\">Numerical Methods of Accelerator Physics</h1>\n",
    "<h2 style=\"text-align: center; vertical-align: middle;\">Lecture by Dr. Adrian Oeftiger</h2>\n",
    "\n",
    "<img src=\"./img/etit.png\" style=\"width: 20%; margin: auto;\" />\n",
    "\n",
    "<h3 style=\"text-align: center; vertical-align: middle;\">Part 12: 27.01.2023</h3>"
   ]
  },
  {
   "cell_type": "markdown",
   "id": "06a8d74b",
   "metadata": {
    "slideshow": {
     "slide_type": "slide"
    }
   },
   "source": [
    "<h2>Run this notebook online!</h2>\n",
    "\n",
    "Interact and run this jupyter notebook online:\n",
    "\n",
    "<div class=\"alert alert-block alert-info\" style=\"text-align:center;\">\n",
    "1. via the public mybinder.org service: <br />\n",
    "\n",
    "<p style=\"text-align: center; margin-left, margin-right: auto; width: 40%;\">\n",
    "<a href=\"https://mybinder.org/v2/gh/aoeftiger/TUDa-NMAP-12/v1.0\"><img src=\"./img/binder_logo.svg\" /></a>\n",
    "</p>\n",
    "</div>\n",
    "\n",
    "<div class=\"alert alert-block alert-success\" style=\"text-align:center;\">\n",
    "2. on the <a href=\"https://tu-jupyter-i.ca.hrz.tu-darmstadt.de/\">local TU Darmstadt jupyterhub $\\nearrow$</a> (using your TU ID)\n",
    "\n",
    "$\\implies$ make sure you installed all the required python packages (see the [README](./README.md))!\n",
    "</div>\n",
    "\n",
    "Finally, also find this lecture rendered [as HTML slides on github $\\nearrow$](https://aoeftiger.github.io/TUDa-NMAP-12/) along with the [source repository $\\nearrow$](https://github.com/aoeftiger/TUDa-NMAP-12)."
   ]
  },
  {
   "cell_type": "markdown",
   "id": "a57cc074",
   "metadata": {
    "slideshow": {
     "slide_type": "slide"
    }
   },
   "source": [
    "<h2>Run this first!</h2>\n",
    "\n",
    "Imports and modules:"
   ]
  },
  {
   "cell_type": "code",
   "execution_count": null,
   "id": "e538eebc",
   "metadata": {
    "slideshow": {
     "slide_type": "-"
    }
   },
   "outputs": [],
   "source": [
    "from config import (np, plt, tqdm, trange, c, epsilon_0,\n",
    "                    beta, gamma, Machine, track_one_turn,\n",
    "                    charge, mass, emittance, hamiltonian, U,\n",
    "                    plot_hamiltonian, plot_rf_overview,\n",
    "                    plot_dist)\n",
    "%matplotlib inline"
   ]
  },
  {
   "cell_type": "markdown",
   "id": "2ce1f362",
   "metadata": {
    "slideshow": {
     "slide_type": "-"
    }
   },
   "source": [
    "If the progress bar by `tqdm` (`trange`) in this document does not work, run this:"
   ]
  },
  {
   "cell_type": "code",
   "execution_count": null,
   "id": "84358e75",
   "metadata": {},
   "outputs": [],
   "source": [
    "!jupyter nbextension enable --py widgetsnbextension"
   ]
  },
  {
   "cell_type": "markdown",
   "id": "d5d19c39",
   "metadata": {
    "slideshow": {
     "slide_type": "slide"
    }
   },
   "source": [
    "<h2 style=\"color: #b51f2a\">Refresher!</h2>\n",
    "\n",
    "- reinforcement learning: solve decision-making problems, optimise for best behavior in an environment\n",
    "- Markov decision process: state, action, probability, reward\n",
    "- Q-learning with state-action value function $Q(s,a)$\n",
    "- temporal difference rule, learning rate\n",
    "- policy: optimal policy via acting greedily in terms of $Q$\n",
    "- **Q-learning**:\n",
    "    - Lookup table: **discrete state-action spaces**\n",
    "    - Q-net (neural network): **continuous states**, discrete action space\n",
    "- **Actor-critic** methods evolve from Q-learning and use **two networks**:\n",
    "    - One for the policy (actor) and one to estimate the Q-values (critic)\n",
    "    - **continuous states *and* actions**."
   ]
  },
  {
   "cell_type": "markdown",
   "id": "ca9cec0a",
   "metadata": {
    "slideshow": {
     "slide_type": "slide"
    }
   },
   "source": [
    "<h2 style=\"color: #b51f2a\">Today!</h2>\n",
    "\n",
    "1. Intro Collective Effects\n",
    "2. Space-charge Modelling\n",
    "3. Negative-Mass / Microwave Instability"
   ]
  },
  {
   "cell_type": "markdown",
   "id": "54c56d4e",
   "metadata": {
    "slideshow": {
     "slide_type": "slide"
    }
   },
   "source": [
    "<div style=\"text-align: center; width:100%;\">\n",
    "    <h2>Part I: Intro Collective Effects</h2>\n",
    "</div>"
   ]
  },
  {
   "cell_type": "markdown",
   "id": "501a111d",
   "metadata": {
    "slideshow": {
     "slide_type": "slide"
    }
   },
   "source": [
    "<h2>Reminder: What is an \"accelerator\"?</h2>\n",
    "\n",
    "$$\\begin{array}\\,\\text{beam self fields} &>& \\text{external applied fields} &\\text{(plasma)} \\\\\n",
    "\\text{beam self fields} &\\ll& \\text{external applied fields}& \\text{(accelerator)}\\end{array}$$\n",
    "\n",
    "\n",
    "\n",
    "$\\implies$ <b>perturbation technique</b> applicable to higher-energy accelerators:\n",
    "\n",
    "$$\\begin{cases} \\text{unperturbed motion} &=& \\text{external fields} \\\\ \n",
    "\\text{perturbation} &=& \\text{self fields} \\end{cases}$$\n",
    "\n",
    "Large part of this course: model effects on particle beam due to external fields!"
   ]
  },
  {
   "cell_type": "markdown",
   "id": "ac456e38",
   "metadata": {
    "slideshow": {
     "slide_type": "slide"
    }
   },
   "source": [
    "<h2>Main collective effects</h2>\n",
    "\n",
    "Beam dynamics due to intensity and beam fields $=$ *\"collective effects\"*\n",
    "\n",
    "1. **Coulomb repulsion** between beam particles:\n",
    "    - *space charge* (mean-field effect)\n",
    "    - *intra-beam scattering* (collision effect) <p></p>\n",
    "2. beam interaction with **induced currents** in metallic environment\n",
    "    - *beam-coupling impedance* <p></p>\n",
    "3. beam interaction with **rest gas**:\n",
    "    - *electron cloud instability* (ion + positron beams)\n",
    "    - *fast beam-ion instability* (electron beams) <p></p>\n",
    "4. <i><b>beam-beam interaction</b></i> (colliders)"
   ]
  },
  {
   "cell_type": "markdown",
   "id": "c938d831",
   "metadata": {
    "slideshow": {
     "slide_type": "-"
    }
   },
   "source": [
    "<!--<h2>Importance of Space Charge</h2>\n",
    "\n",
    "Typically in low- and medium-energy accelerators space charge plays a significant role!\n",
    "\n",
    "Measure for importance between space charge (mean field) vs. intra-beam scattering (collisions):\n",
    "\n",
    "Debye length-->"
   ]
  },
  {
   "cell_type": "markdown",
   "id": "f72c6a52",
   "metadata": {
    "slideshow": {
     "slide_type": "slide"
    }
   },
   "source": [
    "<div style=\"text-align: center; width:100%;\">\n",
    "    <h2>Part II: Space-charge Modelling</h2>\n",
    "</div>"
   ]
  },
  {
   "cell_type": "markdown",
   "id": "5c473089",
   "metadata": {
    "slideshow": {
     "slide_type": "slide"
    }
   },
   "source": [
    "<h2>Paraxial Approximation</h2>\n",
    "\n",
    "In synchrotrons: weak relative motion of particles within bunch vs. motion of entire bunch\n",
    "    \n",
    "$$p_x,p_y \\ll p_0 \\qquad \\text{and} \\qquad \\delta \\ll 1$$\n",
    "\n",
    "$\\implies$ for space charge: relative motion between particles can be neglected!"
   ]
  },
  {
   "cell_type": "markdown",
   "id": "6f13daab",
   "metadata": {
    "slideshow": {
     "slide_type": "slide"
    }
   },
   "source": [
    "<h2>Approach</h2>\n",
    "\n",
    "Approach to modelling space-charge in synchrotrons:\n",
    "\n",
    "1. neglect relative motion $\\implies$ no magnetic fields in beam reference frame\n",
    "2. solve **electrostatic problem** of charged particle distribution $\\rho$ via Poisson equation\n",
    "\n",
    "$$ \\nabla^2 \\varphi = - \\frac{\\rho}{\\epsilon_0}$$\n",
    "\n",
    "$\\quad~$ to obtain self (or space-charge) fields\n",
    "\n",
    "$$\\mathbf{E}_\\mathrm{sc}=-\\nabla \\varphi$$\n",
    "\n",
    "3. (Lorentz) transform self fields from beam to laboratory reference frame\n",
    "4. add self fields to external (magnetic & rf) fields, apply to solve for particle motion<br />(typical method: alternate transport maps and integrated collective effects kicks)"
   ]
  },
  {
   "cell_type": "markdown",
   "id": "d9da8ca6",
   "metadata": {
    "slideshow": {
     "slide_type": "slide"
    }
   },
   "source": [
    "<h2>Space-charge Forces</h2>\n",
    "\n",
    "<!--Given the electric field $\\mathbf{E}_\\mathrm{sc}|_\\mathrm{beam}$ in the beam frame, Lorentz transform to lab frame:\n",
    "\n",
    "$$(E_x, E_y, E_z)_\\mathrm{lab} = (\\gamma E_x, \\gamma E_y, E_z)_\\mathrm{beam}$$-->\n",
    "\n",
    "The magnetic fields in the lab frame purely come from the Lorentz transform of the electric field:\n",
    "\n",
    "$$(B_x, B_y, B_z)_\\mathrm{lab} = \\left(-\\frac{\\beta E_y}{c}, \\frac{\\beta E_x}{c}, 0\\right)_\\mathrm{lab}$$\n",
    "\n",
    "(if avoiding Lorentz transforms, one can also derive this result from Faraday's induction law!)\n",
    "\n",
    "With $\\mathbf{v}=\\beta c \\hat{\\mathbf{e}}_z$, the Lorentz force $\\mathbf{F}=q(\\mathbf{E} + \\mathbf{v}\\times\\mathbf{B})$ effectively leads to a **cancellation of electric and magnetic forces** with a factor $1-\\beta^2$ in the transverse plane! \n",
    "\n",
    "The space-charge force on a particle of charge $q$ in lab frame reads:\n",
    "\n",
    "$$\\begin{align}\n",
    "    (F_x, F_y, F_z)_\\mathrm{lab} &= q\\left((1 - \\beta^2)E_x, (1 - \\beta^2)E_y, E_z\\right)_\\mathrm{lab}\\\\\n",
    "    &= q\\left(\\frac{E_x}{\\gamma^2}, \\frac{E_y}{\\gamma^2}, E_z\\right)_\\mathrm{lab}\n",
    "\\end{align}$$\n",
    "\n",
    "$\\implies$ transverse space-charge forces reduce with energy by $1/\\gamma^2$, that is, most important at **injection energy** and for **ion beams**! "
   ]
  },
  {
   "cell_type": "markdown",
   "id": "0e0bc9a8",
   "metadata": {
    "slideshow": {
     "slide_type": "slide"
    }
   },
   "source": [
    "<h2>Transverse Space Charge</h2>\n",
    "\n",
    "The transverse space-charge force enters the Hill equation, which governs the evolution of single particles:\n",
    "    \n",
    "$$\\begin{align}\n",
    "    \\cfrac{d^2x}{ds^2} + \\left(\\cfrac{1}{\\rho_0(s)^2} + k(s)\\right) x &= \\cfrac{F_x(x,y)}{p_0\\beta c} \\\\\n",
    "    \\cfrac{d^2y}{ds^2} -k(s) y &= \\cfrac{F_y(x,y)}{p_0\\beta c}\n",
    "\\end{align}$$\n",
    "\n",
    "Remarks:\n",
    "- transverse degrees of freedom are generally coupled by space-charge force\n",
    "- transverse space charge counteracts external focusing and leads to **negative tune shifts** <br />(easy to see: plug in a linear $E_r \\propto \\frac{r}{r_b^2}$ for $r_b$ the beam radius)"
   ]
  },
  {
   "cell_type": "markdown",
   "id": "b638b7d3",
   "metadata": {
    "slideshow": {
     "slide_type": "slide"
    }
   },
   "source": [
    "<h2>Longitudinal Space Charge</h2>\n",
    "\n",
    "<img src=\"img/long-efield-reiser.png\" alt=\"Electric Field of a Bunch in a Metallic Vacuum Chamber\" style=\"float: right; width:30%; margin-left: 1em; margin-bottom: 1em;\" />\n",
    "\n",
    "Ion bunch lengths (meters) usually exceed beam pipe radius (centimeters)!\n",
    "\n",
    "In perfectly conducting beam pipe, field lines end perpendicular in wall!\n",
    "\n",
    "$\\implies$ longitudinal space-charge model:\n",
    "- **differs from free-space solution** and \n",
    "- **depends on ratio between transverse beam size $r_b$ and pipe radius $r_p$**\n",
    "\n",
    "<p style=\"clear:both; font-size: small; text-align: right; margin-top:1em;\">image from <a href=\"https://onlinelibrary.wiley.com/doi/book/10.1002/9783527622047\">M. Reiser</a></p>"
   ]
  },
  {
   "cell_type": "markdown",
   "id": "0cffa4ed",
   "metadata": {
    "slideshow": {
     "slide_type": "slide"
    }
   },
   "source": [
    "<h2>Simplistic Derivation of $\\lambda'$ Model</h2>\n",
    "\n",
    "Consider a round continuous beam of radius $r_b$ in cylindrical vacuum pipe of radius $r_p$:\n",
    "\n",
    "- beam (particles) velocity: $\\beta c$\n",
    "- line charge density (Coulomb per meter): $\\lambda(z)$\n",
    "\n",
    "$$E_r = \\left\\{\\begin{matrix}\n",
    "    \\cfrac{\\lambda}{2\\pi\\epsilon_0}\\,\\cfrac{1}{r}, \\quad &r \\geq r_b \\\\\n",
    "    \\cfrac{\\lambda}{2\\pi\\epsilon_0}\\,\\cfrac{r}{r_b^2}, \\quad &r \\leq r_b\n",
    "\\end{matrix}\\right. \\qquad \\text{and}\\qquad B_\\theta = \\frac{\\beta}{c}E_r$$"
   ]
  },
  {
   "cell_type": "markdown",
   "id": "db0ff9ae",
   "metadata": {
    "slideshow": {
     "slide_type": "slide"
    }
   },
   "source": [
    "<div class=\"alert alert-block alert-success\" style=\"text-align:center;\">\n",
    "    Faraday's induction law: varying magnetic fields produce rotational electric fields,<br /><br />\n",
    "    $$\\oint \\mathbf{E}\\cdot \\mathbf{dl} = - \\frac{\\partial}{\\partial t} \\iint_S \\mathbf{B}\\cdot\\mathbf{dS}$$\n",
    "</div>\n",
    "\n",
    "Choose rectangle as follows for circular path $\\mathbf{l}$ with a small $\\Delta z\\rightarrow dz$:\n",
    "\n",
    "<img src=\"img/ampere_z.png\" alt=\"Ampere's induction law for longitudinal space charge\" style=\"width:50%; margin:auto; margin-top:1em;\" />\n",
    "\n",
    "<p style=\"font-size: small; text-align: right; margin-top:1em;\">image from <a href=\"https://indico.cern.ch/event/103406/contributions/20685/attachments/11983/17501/CAS_Prior_IV.pdf\">C. Prior</a></p>"
   ]
  },
  {
   "cell_type": "markdown",
   "id": "048b3e15",
   "metadata": {
    "slideshow": {
     "slide_type": "slide"
    }
   },
   "source": [
    "$$\\begin{align}\n",
    "    \\mathrm{LHS} \\implies &(E_z - E_w)\\Delta z + \\int\\limits_{0}^{r_p} dr~\\bigl(E_r(z+\\Delta z) - E_r(z)\\bigr) \\\\\n",
    "    &= (E_z - E_w)\\Delta z + \\left[\\cfrac{\\lambda}{2\\pi\\epsilon_0}\\,\\left(\\int\\limits_{0}^{r_b} dr~\\frac{r}{r_b^2} + \\int\\limits_{r_b}^{r_p} dr~\\frac{1}{r}\\right)\\right]_{~z}^{~z+\\Delta z} \\\\\n",
    "    &= (E_z - E_w)\\Delta z + \\frac{1}{4\\pi\\epsilon_0}\\left(1 + 2\\ln\\cfrac{r_p}{r_b}\\right) \\bigl(\\lambda(z+\\Delta z) - \\lambda(z)\\bigr)\n",
    "\\end{align}$$"
   ]
  },
  {
   "cell_type": "markdown",
   "id": "4ff91dc4",
   "metadata": {
    "slideshow": {
     "slide_type": "slide"
    }
   },
   "source": [
    "$$\\begin{align}\n",
    "    \\mathrm{RHS} \\implies & -\\underbrace{\\cfrac{\\partial}{\\partial t}}\\limits_{\\mathop{=}-\\beta c \\frac{\\partial}{\\partial s}}\\,\\Delta z\\cdot \\int\\limits_{0}^{r_p} dr~\\cfrac{\\beta}{c}\\,E_r(z) \\\\\n",
    "    &= \\cfrac{1}{4\\pi\\epsilon_0}\\left(1 + 2\\ln\\cfrac{r_p}{r_b}\\right) \\beta^2 \\cfrac{d \\lambda}{dz}\\cdot \\Delta z\n",
    "\\end{align}$$\n",
    "\n",
    "Faraday's law: set $\\mathrm{LHS}=\\mathrm{RHS}$, replace $\\frac{\\lambda(z+\\Delta z) - \\lambda(z)}{\\Delta z}\\approx \\frac{d\\lambda(z)}{dz}$ and find\n",
    "\n",
    "$$\\implies E_z(z) = E_w - \\frac{1}{4\\pi\\epsilon_0}\\underbrace{\\left(1 + 2\\ln\\cfrac{r_p}{r_b}\\right)}\\limits_{\\mathop{\\doteq} g} \\, \\underbrace{(1-\\beta^2)}\\limits_{\\mathop{=}\\frac{1}{\\gamma^2}} \\, \\cfrac{d\\lambda}{dz}$$"
   ]
  },
  {
   "cell_type": "markdown",
   "id": "40f5effa",
   "metadata": {
    "slideshow": {
     "slide_type": "slide"
    }
   },
   "source": [
    "<h2>Longitudinal Space-charge Field</h2>\n",
    "\n",
    "**geometry factor** $g$ $\\implies$ represents field line distortion with $r_p/r_b$ ratio!\n",
    "\n",
    "$\\implies$ $E_z$ expression includes both *direct* and *indirect* space-charge contributions.\n",
    "\n",
    "For perfectly conducting walls the electric field in the wall vanishes, $E_w=0$.\n",
    "\n",
    "<div class=\"alert alert-block alert-success\" style=\"text-align:center;\">\n",
    "    The longitudinal space-charge field hence reads\n",
    "$$E_z(z) = -\\cfrac{g}{4\\pi\\epsilon_0\\gamma^2}\\,\\cfrac{d\\lambda}{dz}$$ \n",
    "</div>\n",
    "\n",
    "$\\implies$ Note that also longitudinal space charge reduces with $1/\\gamma^2$ for fixed bunch length!"
   ]
  },
  {
   "cell_type": "markdown",
   "id": "ef643548",
   "metadata": {
    "slideshow": {
     "slide_type": "slide"
    }
   },
   "source": [
    "<h2>The $\\lambda'$ Space-charge Model</h2>\n",
    "\n",
    "For typically slow synchrotron motion, the particles do not move much, $z\\approx\\mathrm{const}$ during a turn. Evaluate longitudinal space-charge effect with a **single kick per turn** approximating $F_z(z)=q E_z(z)=\\mathrm{const}$ during the revolution. \n",
    "\n",
    "Momentum update according to the $\\lambda'$ space-charge model thus reads:\n",
    "\n",
    "$$\\Delta p_{n+1} = \\Delta p_n - \\frac{qg}{4\\pi\\epsilon_0\\gamma^2} \\frac{C}{\\beta c}\\frac{d\\lambda}{dz}$$\n",
    "\n",
    "$\\implies$ **Self-consistent modelling**: feedback due to macro-particle distribution determining the space-charge field which is in turn applied to the macro-particles!\n",
    "\n",
    "Derived $\\lambda'(z)$ space-charge model for continuous beam, but it also applies to long bunches with the condition:\n",
    "\n",
    "$$\\sigma_z \\gtrsim 3 r_p$$\n",
    "\n",
    "NB: this longitudinal $\\lambda'$ space-charge model (for perfectly conducting boundaries) is equivalent to a **constant impedance** model with a negative inductance ($Z\\propto -iL$)"
   ]
  },
  {
   "cell_type": "markdown",
   "id": "af5d2409",
   "metadata": {
    "slideshow": {
     "slide_type": "slide"
    }
   },
   "source": [
    "<h2 style=\"color:#e6541a;\">Example: Longitudinal Space Charge in CERN PS</h2>\n",
    "\n",
    "Consider CERN PS for illustration once again:\n",
    "- non-accelerating rf bucket at $V_\\mathrm{RF}=25\\,$kV\n",
    "- injection energy $\\gamma=3.13$\n",
    "- bunch of $N_p = 1\\times 10^{12}$ particles\n",
    "- rms bunch length of $\\sigma_z=2\\,$m\n",
    "- vacuum pipe of $\\approx 10\\,$cm\n",
    "- beam radius of $\\approx 1\\,$cm"
   ]
  },
  {
   "cell_type": "code",
   "execution_count": null,
   "id": "d06f1a5c",
   "metadata": {},
   "outputs": [],
   "source": [
    "m = Machine(gamma_ref=3.13, phi_s=0, voltage=25000)\n",
    "# adjust here later!"
   ]
  },
  {
   "cell_type": "markdown",
   "id": "fdec2b7d",
   "metadata": {
    "slideshow": {
     "slide_type": "slide"
    }
   },
   "source": [
    "The RF harmonic determines the width of an RF bucket:"
   ]
  },
  {
   "cell_type": "code",
   "execution_count": null,
   "id": "7ea7dd20",
   "metadata": {
    "scrolled": true
   },
   "outputs": [],
   "source": [
    "m.harmonic"
   ]
  },
  {
   "cell_type": "markdown",
   "id": "02f4b01c",
   "metadata": {
    "slideshow": {
     "slide_type": "-"
    }
   },
   "source": [
    "<p style=\"color:#e6541a;\">$\\implies$ Can you determine the location of the left and right unstable fix points, which limit the RF bucket?</p>"
   ]
  },
  {
   "cell_type": "code",
   "execution_count": null,
   "id": "17ec33d4",
   "metadata": {},
   "outputs": [],
   "source": [
    "rfbucket_z_right = # fill me\n",
    "rfbucket_z_left = # fill me"
   ]
  },
  {
   "cell_type": "code",
   "execution_count": null,
   "id": "893d6247",
   "metadata": {
    "slideshow": {
     "slide_type": "slide"
    }
   },
   "outputs": [],
   "source": [
    "plot_rf_overview(m);"
   ]
  },
  {
   "cell_type": "markdown",
   "id": "abf6e76f",
   "metadata": {
    "slideshow": {
     "slide_type": "slide"
    }
   },
   "source": [
    "We initialise a Gaussian bunch distribution with small rms bunch length $\\sigma_z=2\\,$m (so that the <i>small-amplitude approximation</i> applies):"
   ]
  },
  {
   "cell_type": "code",
   "execution_count": null,
   "id": "a1880c09",
   "metadata": {},
   "outputs": [],
   "source": [
    "sigma_z = 2"
   ]
  },
  {
   "cell_type": "markdown",
   "id": "2762fa8e",
   "metadata": {
    "slideshow": {
     "slide_type": "-"
    }
   },
   "source": [
    "<p style=\"color:#e6541a;\">$\\implies$ Is the bunch length condition for our $\\lambda'(z)$ longitudinal space-charge model satisfied?</p>"
   ]
  },
  {
   "cell_type": "markdown",
   "id": "0ac493b9",
   "metadata": {
    "slideshow": {
     "slide_type": "slide"
    }
   },
   "source": [
    "The <i>matched</i> rms momentum spread $\\sigma_{\\Delta p}$ (remember, $\\sigma_{\\Delta p}$ and $\\sigma_z$ are linked via equal Hamiltonian values $\\mathcal{H}_0$, the <i>equilibrium condition</i>):"
   ]
  },
  {
   "cell_type": "code",
   "execution_count": null,
   "id": "7fc5b0cc",
   "metadata": {},
   "outputs": [],
   "source": [
    "sigma_deltap = np.sqrt(\n",
    "    2 * m.p0() / np.abs(m.eta(0)) * \n",
    "    charge * m.voltage * np.pi * m.harmonic / (beta(gamma(m.p0())) * c * m.circumference**2)\n",
    ") * sigma_z"
   ]
  },
  {
   "cell_type": "code",
   "execution_count": null,
   "id": "9dab4ca1",
   "metadata": {},
   "outputs": [],
   "source": [
    "sigma_deltap / m.p0()"
   ]
  },
  {
   "cell_type": "markdown",
   "id": "4ada8adf",
   "metadata": {
    "slideshow": {
     "slide_type": "slide"
    }
   },
   "source": [
    "Number of simulated macro-particles (not too low such as to well resolve the line charge density of the bunch):"
   ]
  },
  {
   "cell_type": "code",
   "execution_count": null,
   "id": "78df00ef",
   "metadata": {},
   "outputs": [],
   "source": [
    "N = 100000"
   ]
  },
  {
   "cell_type": "markdown",
   "id": "7d5c9f54",
   "metadata": {
    "slideshow": {
     "slide_type": "-"
    }
   },
   "source": [
    "Generation of macro-particles by initialising the phase-space distribution:"
   ]
  },
  {
   "cell_type": "code",
   "execution_count": null,
   "id": "735e54e8",
   "metadata": {},
   "outputs": [],
   "source": [
    "np.random.seed(12345)\n",
    "\n",
    "z = np.random.normal(loc=0, scale=sigma_z, size=N)\n",
    "deltap = np.random.normal(loc=0, scale=sigma_deltap, size=N)"
   ]
  },
  {
   "cell_type": "code",
   "execution_count": null,
   "id": "d8138b55",
   "metadata": {
    "scrolled": false,
    "slideshow": {
     "slide_type": "slide"
    }
   },
   "outputs": [],
   "source": [
    "plot_hamiltonian(m, dpmax=0.005)\n",
    "plt.scatter(z[::N // 1000], deltap[::N // 1000] / m.p0(), marker='.', s=1);"
   ]
  },
  {
   "cell_type": "markdown",
   "id": "976419e6",
   "metadata": {
    "slideshow": {
     "slide_type": "-"
    }
   },
   "source": [
    "<p style=\"color:#e6541a;\">$\\implies$ Does this generated macro-particle distribution appear to be matched to the RF bucket?</p>"
   ]
  },
  {
   "cell_type": "markdown",
   "id": "36caa6f8",
   "metadata": {
    "slideshow": {
     "slide_type": "slide"
    }
   },
   "source": [
    "Next, we define a regular 1D grid for discretisation -- we will slice up the beam into bins (the *slices*):"
   ]
  },
  {
   "cell_type": "code",
   "execution_count": null,
   "id": "3cbdd1d1",
   "metadata": {},
   "outputs": [],
   "source": [
    "N_slices = 100\n",
    "\n",
    "slice_boundaries = np.linspace(rfbucket_z_left, rfbucket_z_right, N_slices + 1, endpoint=True)"
   ]
  },
  {
   "cell_type": "code",
   "execution_count": null,
   "id": "470870c6",
   "metadata": {},
   "outputs": [],
   "source": [
    "slice_centres = (slice_boundaries[1:] + slice_boundaries[:-1]) / 2"
   ]
  },
  {
   "cell_type": "markdown",
   "id": "11daf5f1",
   "metadata": {
    "slideshow": {
     "slide_type": "slide"
    }
   },
   "source": [
    "And we are now in the position to compute a discretised line charge density $\\lambda(z)$ from the $z$ distribution of the macro-particles:"
   ]
  },
  {
   "cell_type": "code",
   "execution_count": null,
   "id": "8a86860f",
   "metadata": {},
   "outputs": [],
   "source": [
    "N_per_slice, slice_boundaries = np.histogram(z, bins=slice_boundaries)"
   ]
  },
  {
   "cell_type": "code",
   "execution_count": null,
   "id": "a69fc036",
   "metadata": {},
   "outputs": [],
   "source": [
    "plt.step(slice_centres, N_per_slice, where='mid')\n",
    "plt.xlabel('$z$ [m]')\n",
    "plt.ylabel('Number of particles / slice');"
   ]
  },
  {
   "cell_type": "markdown",
   "id": "a7e8c307",
   "metadata": {
    "slideshow": {
     "slide_type": "slide"
    }
   },
   "source": [
    "The bunch has a total intensity of $N_p=1\\times 10^{12}$ real particles.\n",
    "\n",
    "<p style=\"color:#e6541a;\">$\\implies$ What total charge does a <b>macro</b>-particle carry?</p>"
   ]
  },
  {
   "cell_type": "code",
   "execution_count": null,
   "id": "eb5ef3ac",
   "metadata": {},
   "outputs": [],
   "source": [
    "charge_per_mp = 1e12 / N * charge"
   ]
  },
  {
   "cell_type": "code",
   "execution_count": null,
   "id": "df2eb181",
   "metadata": {},
   "outputs": [],
   "source": [
    "lmbda = charge_per_mp * N_per_slice / np.diff(slice_boundaries)"
   ]
  },
  {
   "cell_type": "markdown",
   "id": "c08de3e5",
   "metadata": {
    "slideshow": {
     "slide_type": "slide"
    }
   },
   "source": [
    "We evaluate the geometry factor $g$:"
   ]
  },
  {
   "cell_type": "code",
   "execution_count": null,
   "id": "babaa227",
   "metadata": {},
   "outputs": [],
   "source": [
    "r_pipe = 0.1\n",
    "r_beam = 0.01\n",
    "\n",
    "g = 1 + 2 * np.log(r_pipe / r_beam)"
   ]
  },
  {
   "cell_type": "markdown",
   "id": "e5eb7b78",
   "metadata": {
    "slideshow": {
     "slide_type": "slide"
    }
   },
   "source": [
    "If the space-charge field is given by $E_z\\propto \\frac{d\\lambda}{dz}$, the space-charge potential is given by the same expression but with $V_\\mathrm{sc} \\propto -\\lambda$!"
   ]
  },
  {
   "cell_type": "code",
   "execution_count": null,
   "id": "32de8dfb",
   "metadata": {},
   "outputs": [],
   "source": [
    "V_sc = g / (4 * np.pi * epsilon_0 * m.gamma_ref**2) * lmbda"
   ]
  },
  {
   "cell_type": "code",
   "execution_count": null,
   "id": "90d93a23",
   "metadata": {},
   "outputs": [],
   "source": [
    "plt.plot(slice_centres, V_sc)\n",
    "plt.xlabel('$z$ [m]')\n",
    "plt.ylabel('$|V_{sc}|$ [V]');"
   ]
  },
  {
   "cell_type": "markdown",
   "id": "11823be9",
   "metadata": {
    "slideshow": {
     "slide_type": "-"
    }
   },
   "source": [
    "<p style=\"color:#e6541a;\">$\\implies$ Compare this space-charge potential to the rf voltage &ndash; what do you think about the peak values?</p>"
   ]
  },
  {
   "cell_type": "markdown",
   "id": "448c7c12",
   "metadata": {
    "slideshow": {
     "slide_type": "slide"
    }
   },
   "source": [
    "Compute the derivative of the line charge density via second-order (symmetric) finite difference,\n",
    "\n",
    "$$\\lambda'(z)\\approx \\cfrac{\\lambda(z+\\Delta z) - \\lambda(z-\\Delta z)}{2\\Delta z} \\quad:$$"
   ]
  },
  {
   "cell_type": "code",
   "execution_count": null,
   "id": "f1458168",
   "metadata": {},
   "outputs": [],
   "source": [
    "lmbda_prime = np.gradient(lmbda, slice_centres)"
   ]
  },
  {
   "cell_type": "code",
   "execution_count": null,
   "id": "205f2179",
   "metadata": {},
   "outputs": [],
   "source": [
    "plt.step(slice_centres, 1e9 * lmbda_prime)\n",
    "plt.xlabel('$z$ [m]')\n",
    "plt.ylabel(\"$\\lambda'(z)$ [nC/m${}^2$]\");"
   ]
  },
  {
   "cell_type": "markdown",
   "id": "33bed334",
   "metadata": {
    "slideshow": {
     "slide_type": "slide"
    }
   },
   "source": [
    "The longitudinal space-charge field is thus given by:"
   ]
  },
  {
   "cell_type": "code",
   "execution_count": null,
   "id": "d9b4b774",
   "metadata": {},
   "outputs": [],
   "source": [
    "E_z = -g / (4 * np.pi * epsilon_0 * m.gamma_ref**2) * lmbda_prime"
   ]
  },
  {
   "cell_type": "markdown",
   "id": "68d20c92",
   "metadata": {
    "slideshow": {
     "slide_type": "slide"
    }
   },
   "source": [
    "### Comparison with external phase focusing from RF\n",
    "\n",
    "Compute the effective external RF field as a mean via the rf wave kick per circumference:"
   ]
  },
  {
   "cell_type": "code",
   "execution_count": null,
   "id": "d4eb4c25",
   "metadata": {},
   "outputs": [],
   "source": [
    "E_rf = m.voltage / m.circumference * np.sin(\n",
    "    -m.harmonic * slice_centres * 2 * np.pi / m.circumference + m.phi_s)\n",
    "# E_rf = -np.gradient(U(slice_centres, m) / charge * c, slice_centres)"
   ]
  },
  {
   "cell_type": "markdown",
   "id": "8ff0cf30",
   "metadata": {
    "slideshow": {
     "slide_type": "slide"
    }
   },
   "source": [
    "The external phase focusing by the rf wave and the space-charge field sum up:"
   ]
  },
  {
   "cell_type": "code",
   "execution_count": null,
   "id": "182b78fa",
   "metadata": {},
   "outputs": [],
   "source": [
    "plt.plot(slice_centres, E_rf, c='k', label='RF')\n",
    "plt.plot(slice_centres, E_z, c='r', label='SC')\n",
    "plt.plot(slice_centres, E_rf + E_z, c='lightblue', label='RF+SC')\n",
    "\n",
    "plt.legend()\n",
    "plt.xlabel('$z$ [m]')\n",
    "plt.ylabel('mean $E$ [V/m]');"
   ]
  },
  {
   "cell_type": "markdown",
   "id": "137ca0a6",
   "metadata": {
    "slideshow": {
     "slide_type": "-"
    }
   },
   "source": [
    "<p style=\"color:#e6541a;\">$\\implies$ What happens to the net phase focusing which the bunch experiences? Will the RF bucket increase or rather shrink in momentum acceptance?</p>"
   ]
  },
  {
   "cell_type": "markdown",
   "id": "fce52484",
   "metadata": {
    "slideshow": {
     "slide_type": "slide"
    }
   },
   "source": [
    "<h2>Longitudinal Space Charge vs. Transition</h2>\n",
    "\n",
    "Since the chosen flank (falling/rising) of the rf wave depends on the phase slippage (below/above transition), the effect of longitudinal space charge on phase focusing depends on classical vs. relativistic regime!\n",
    "\n",
    "| <b>classical regime</b> | <b>relativistic regime</b> |\n",
    "| :-: | :-: |\n",
    "| $\\eta < 0$ | $ \\eta > 0$ |\n",
    "| $\\gamma < \\gamma_\\text{t}$ | $\\gamma > \\gamma_\\text{t}$ |\n",
    "| $\\implies$ $\\varphi_s$ on rising slope of $V(\\varphi)$ | $\\implies$ $\\varphi_s$ on falling slope of $V(\\varphi)$ |\n",
    "|[$z(\\varphi_s)$ on falling slope of $V(z)$] | [$z(\\varphi_s)$ on rising slope of $V(z)$] |\n",
    "| space charge **defocuses** | space charge **focuses** |"
   ]
  },
  {
   "cell_type": "markdown",
   "id": "a409171b",
   "metadata": {
    "slideshow": {
     "slide_type": "-"
    }
   },
   "source": [
    "<p style=\"color:#e6541a;\">$\\implies$ Choose $\\gamma=7$. Are we above transition energy? Provide stable rf conditions and repeat the above computations! Can you confirm that space charge acts in the same way (focusing) as the rf wave now?</p>"
   ]
  },
  {
   "cell_type": "markdown",
   "id": "f08eb95c",
   "metadata": {
    "slideshow": {
     "slide_type": "slide"
    }
   },
   "source": [
    "<h2>Fate of a Perturbation?</h2>\n",
    "\n",
    "Consider a (space-charge-) matched distribution in longitudinal phase space. Suppose a small perturbation in the line charge density, e.g. a trough in the bunch profile. The effect by the space-charge field:\n",
    "\n",
    "$$E_z(z) = -\\cfrac{g}{4\\pi\\epsilon_0\\gamma^2}\\,\\cfrac{d\\lambda}{dz}$$\n",
    "\n",
    "1. **below transition:**\n",
    "- particles speed up in regions where $\\frac{d\\lambda}{dz}<0$\n",
    "- particles slow down in regions where $\\frac{d\\lambda}{dz}>0$\n",
    "\n",
    "$\\implies$ the trough will be filled with particles, the perturbation is **damped**\n",
    "\n",
    "2. **above transition:** reverse situation!\n",
    "\n",
    "$\\implies$ the perturbation **grows**\n",
    "\n",
    "<span style='color:#f00;'><b>$\\implies$ INSTABILITY!</b></span>"
   ]
  },
  {
   "cell_type": "markdown",
   "id": "79d27204",
   "metadata": {
    "slideshow": {
     "slide_type": "slide"
    }
   },
   "source": [
    "<div style=\"text-align: center; width:100%;\">\n",
    "    <h2>Part III: Negative-Mass / Microwave Instability</h2>\n",
    "</div>"
   ]
  },
  {
   "cell_type": "markdown",
   "id": "264bdf03",
   "metadata": {
    "slideshow": {
     "slide_type": "slide"
    }
   },
   "source": [
    "<h2>About the Microwave Instability</h2>\n",
    "\n",
    "- instability typically develops above **intensity threshold**\n",
    "- instability only appears **above transition**\n",
    "- often observed as bunch length oscillations increasing on average, immediately after transition crossing $\\implies$ **longitudinal emittance growth**\n",
    "- emittance growth leads to larger synchrotron tune spread $\\implies$ eventual **Landau damping of instability** (natural end of instability evolution)\n",
    "\n",
    "<div style=\"width:80%; margin: auto; text-align: center; float:right;\">\n",
    "    <img src=\"img/threshold.png\" alt=\"instability threshold\" style=\"width:40%; margin: auto; float:left;\" />\n",
    "    <img src=\"img/bunch-length.png\" alt=\"bunch length evolution CERN PS\" style=\"margin: auto; width:40%; float:left;\" />\n",
    "</div>\n",
    "\n",
    "<p style=\"clear:both; font-size: small; text-align: right; margin-top:1em;\">images from <a href=\"https://cds.cern.ch/record/381423/files/sl-99-008.pdf\">E. Shaposhnikova</a> and <a href=\"https://accelconf.web.cern.ch/ipac2021/papers/wepab243.pdf\">A. Lasheen</a></p>"
   ]
  },
  {
   "cell_type": "markdown",
   "id": "d775b1cd",
   "metadata": {
    "slideshow": {
     "slide_type": "slide"
    }
   },
   "source": [
    "<h2>Let's simulate it!</h2>"
   ]
  },
  {
   "cell_type": "markdown",
   "id": "bf097859",
   "metadata": {},
   "source": [
    "We implement the space-charge kick for the tracking:"
   ]
  },
  {
   "cell_type": "code",
   "execution_count": null,
   "id": "dbf74554",
   "metadata": {},
   "outputs": [],
   "source": [
    "def space_charge_kick(z_n, deltap_n, machine, charge_per_mp=charge_per_mp, N_slices=N_slices, g=g):\n",
    "    m = machine\n",
    "    rfbucket_z_right = m.circumference / m.harmonic / 2\n",
    "    rfbucket_z_left = -rfbucket_z_right\n",
    "    \n",
    "    # slicing\n",
    "    slice_boundaries = np.linspace(rfbucket_z_left, rfbucket_z_right, N_slices + 1, endpoint=True)\n",
    "    N_per_slice, _ = np.histogram(z_n, bins=slice_boundaries)\n",
    "    # find slice index for each particle:\n",
    "    slice_idx_per_mp = np.floor((z_n - slice_boundaries[0]) / \n",
    "                                (slice_boundaries[1] - slice_boundaries[0])).astype(int)\n",
    "    \n",
    "    # get line charge density derivative\n",
    "    lmbda = charge_per_mp * N_per_slice / np.diff(slice_boundaries)\n",
    "    lmbda_prime = np.gradient(lmbda, slice_boundaries[:-1])\n",
    "    \n",
    "    # space-charge field per slice\n",
    "    E_z = -g / (4 * np.pi * epsilon_0 * m.gamma_ref**2) * lmbda_prime\n",
    "    \n",
    "    # momentum update\n",
    "    deltap_n1 = deltap_n - charge * E_z[slice_idx_per_mp] * m.circumference / (beta(m.gamma_ref) * c)\n",
    "    return deltap_n1"
   ]
  },
  {
   "cell_type": "markdown",
   "id": "d71c9e46",
   "metadata": {
    "slideshow": {
     "slide_type": "slide"
    }
   },
   "source": [
    "The kicks which the particles receive look as follows:"
   ]
  },
  {
   "cell_type": "code",
   "execution_count": null,
   "id": "ebeb95dd",
   "metadata": {},
   "outputs": [],
   "source": [
    "plt.scatter(z, (space_charge_kick(z, deltap, m) - deltap) / m.p0())\n",
    "plt.xlabel('$z$ [m]')\n",
    "plt.ylabel('$(\\Delta p_{n+1} - \\Delta p_{n}) / p_0$');"
   ]
  },
  {
   "cell_type": "markdown",
   "id": "b206c487",
   "metadata": {
    "slideshow": {
     "slide_type": "slide"
    }
   },
   "source": [
    "We implement the one-turn tracking:"
   ]
  },
  {
   "cell_type": "code",
   "execution_count": null,
   "id": "617d81d2",
   "metadata": {},
   "outputs": [],
   "source": [
    "def track_one_turn(z_n, deltap_n, machine, **kwargs):\n",
    "    m = machine\n",
    "    # half drift\n",
    "    z_nhalf = z_n - m.eta(deltap_n) * deltap_n / m.p0() * m.circumference / 2\n",
    "    # rf kick\n",
    "    amplitude = charge * m.voltage / (beta(gamma(m.p0())) * c)\n",
    "    phi = m.phi_s - m.harmonic * 2 * np.pi * z_nhalf / m.circumference\n",
    "    \n",
    "    m.update_gamma_ref()\n",
    "    deltap_n1 = deltap_n + amplitude * (np.sin(phi) - np.sin(m.phi_s))\n",
    "    # space-charge kick\n",
    "    deltap_n1 = space_charge_kick(z, deltap_n1, m, **kwargs)\n",
    "    # half drift\n",
    "    z_n1 = z_nhalf - m.eta(deltap_n1) * deltap_n1 / m.p0() * m.circumference / 2\n",
    "    return z_n1, deltap_n1"
   ]
  },
  {
   "cell_type": "markdown",
   "id": "f3188ab6",
   "metadata": {
    "slideshow": {
     "slide_type": "slide"
    }
   },
   "source": [
    "<h2>Ready to Simulate!</h2>\n",
    "\n",
    "We simulate just above transition, continuing from the end of the previous part."
   ]
  },
  {
   "cell_type": "code",
   "execution_count": null,
   "id": "f787558d",
   "metadata": {
    "slideshow": {
     "slide_type": "-"
    }
   },
   "outputs": [],
   "source": [
    "assert m.gamma_ref > 1 / np.sqrt(m.alpha_c), 'Initialise the machine above transition energy!'"
   ]
  },
  {
   "cell_type": "markdown",
   "id": "0a0be9b0",
   "metadata": {
    "slideshow": {
     "slide_type": "slide"
    }
   },
   "source": [
    "We simulate for a bit more than 1 synchrotron period above transition at 10x higher intensity than the initial nominal parameters:"
   ]
  },
  {
   "cell_type": "code",
   "execution_count": null,
   "id": "4441e72e",
   "metadata": {},
   "outputs": [],
   "source": [
    "n_turns = 3000\n",
    "\n",
    "intensity_factor = 10"
   ]
  },
  {
   "cell_type": "markdown",
   "id": "ab76c467",
   "metadata": {},
   "source": [
    "... and record the longitudinal emittance:"
   ]
  },
  {
   "cell_type": "code",
   "execution_count": null,
   "id": "905cd486",
   "metadata": {},
   "outputs": [],
   "source": [
    "epsn_z = np.zeros(n_turns, dtype=np.float64)\n",
    "\n",
    "epsn_z[0] = emittance(z, deltap)"
   ]
  },
  {
   "cell_type": "markdown",
   "id": "ca5209f2",
   "metadata": {},
   "source": [
    "... as well as the bunch profiles (just as we did in the tomography lecture 09):"
   ]
  },
  {
   "cell_type": "code",
   "execution_count": null,
   "id": "ff4d9cf9",
   "metadata": {},
   "outputs": [],
   "source": [
    "profiles = [np.histogram(z, bins=slice_boundaries)[0]]"
   ]
  },
  {
   "cell_type": "markdown",
   "id": "9d7033c0",
   "metadata": {
    "slideshow": {
     "slide_type": "slide"
    }
   },
   "source": [
    "Let's track! (May take a couple of minutes!)"
   ]
  },
  {
   "cell_type": "code",
   "execution_count": null,
   "id": "9a7e7bd9",
   "metadata": {
    "scrolled": true
   },
   "outputs": [],
   "source": [
    "for i_turn in trange(1, n_turns):\n",
    "    z, deltap = track_one_turn(z, deltap, m, \n",
    "                               charge_per_mp=charge_per_mp * intensity_factor, \n",
    "                               N_slices=400)\n",
    "    \n",
    "    # record:\n",
    "    epsn_z[i_turn] = emittance(z, deltap)\n",
    "    profiles += [np.histogram(z, bins=slice_boundaries)[0]]"
   ]
  },
  {
   "cell_type": "markdown",
   "id": "9790e623",
   "metadata": {
    "slideshow": {
     "slide_type": "slide"
    }
   },
   "source": [
    "Let us have a look at the final bunch profile:"
   ]
  },
  {
   "cell_type": "code",
   "execution_count": null,
   "id": "4553742e",
   "metadata": {
    "scrolled": false
   },
   "outputs": [],
   "source": [
    "N_per_slice, slice_boundaries = np.histogram(z, bins=slice_boundaries)\n",
    "\n",
    "plt.step(slice_centres, N_per_slice, where='mid')\n",
    "plt.xlabel('$z$ [m]')\n",
    "plt.ylabel('Number of particles / slice');"
   ]
  },
  {
   "cell_type": "markdown",
   "id": "2bda85a5",
   "metadata": {},
   "source": [
    "$\\implies$ we note distinct peaks (enhanced perturbations) along the bunch profile!"
   ]
  },
  {
   "cell_type": "markdown",
   "id": "dcead4d2",
   "metadata": {
    "slideshow": {
     "slide_type": "slide"
    }
   },
   "source": [
    "Let's plot the emittance evolution:"
   ]
  },
  {
   "cell_type": "code",
   "execution_count": null,
   "id": "16fd2e40",
   "metadata": {},
   "outputs": [],
   "source": [
    "plt.plot(np.arange(n_turns), 100 * (epsn_z - epsn_z[0]) / epsn_z[0])\n",
    "\n",
    "plt.xlabel('Turns')\n",
    "plt.ylabel('$\\Delta \\epsilon_z/\\epsilon_{z0}$ [%]');"
   ]
  },
  {
   "cell_type": "markdown",
   "id": "8371b783",
   "metadata": {},
   "source": [
    "$\\implies$ there is strong emittance blow-up for 10x higher intensity! (Does this persist for nominal intensity?)"
   ]
  },
  {
   "cell_type": "markdown",
   "id": "326b85c2",
   "metadata": {
    "slideshow": {
     "slide_type": "slide"
    }
   },
   "source": [
    "Look into phase space and a couple of particles:"
   ]
  },
  {
   "cell_type": "code",
   "execution_count": null,
   "id": "32fc03ff",
   "metadata": {
    "scrolled": false
   },
   "outputs": [],
   "source": [
    "plot_hamiltonian(m, dpmax=0.005)\n",
    "plt.scatter(z[::N // 1000], deltap[::N // 1000] / m.p0(), marker='.', s=1);"
   ]
  },
  {
   "cell_type": "markdown",
   "id": "0749ebcb",
   "metadata": {
    "slideshow": {
     "slide_type": "slide"
    }
   },
   "source": [
    "A density plot of the longitudinal phase space shows the damage:"
   ]
  },
  {
   "cell_type": "code",
   "execution_count": null,
   "id": "0115fb12",
   "metadata": {
    "scrolled": false
   },
   "outputs": [],
   "source": [
    "plt.hist2d(z, deltap/m.p0(), bins=100)\n",
    "\n",
    "plt.xlabel('$z$ [m]')\n",
    "plt.ylabel('$\\delta$');"
   ]
  },
  {
   "cell_type": "markdown",
   "id": "4afc8edc",
   "metadata": {
    "slideshow": {
     "slide_type": "slide"
    }
   },
   "source": [
    "And the bunch profiles over time:"
   ]
  },
  {
   "cell_type": "code",
   "execution_count": null,
   "id": "77ce517d",
   "metadata": {},
   "outputs": [],
   "source": [
    "plt.imshow(profiles, origin='lower', cmap='jet', extent=(rfbucket_z_left, rfbucket_z_right, 0, n_turns))\n",
    "plt.gca().set_aspect(np.diff(plt.xlim()) / np.diff(plt.ylim()))\n",
    "plt.xlabel('$z$ [m]')\n",
    "plt.ylabel('Turn')\n",
    "plt.colorbar(label='Density');"
   ]
  },
  {
   "cell_type": "markdown",
   "id": "8279f477",
   "metadata": {},
   "source": [
    "$\\implies$ there is a clear signature for the microwave instability: look at the **diverging distribution** and the **high-frequency structure** of **space-charge waves** on the profiles!"
   ]
  },
  {
   "cell_type": "markdown",
   "id": "f3263510",
   "metadata": {
    "slideshow": {
     "slide_type": "slide"
    }
   },
   "source": [
    "<span style=\"color:#e6541a;\">$\\implies$ If you go for the original proton beam intensity, will the instability persist? Change the `intensity_factor` from `10.0` (back) to `1.0` and re-run the entire notebook (to re-initialise the macro-particle distribution).</span>"
   ]
  },
  {
   "cell_type": "markdown",
   "id": "bf1fdc54",
   "metadata": {
    "slideshow": {
     "slide_type": "slide"
    }
   },
   "source": [
    "<h2>Actual CERN PS Measurements</h2>\n",
    "\n",
    "A recent paper from CERN shows real measurements from the CERN PS:\n",
    "    \n",
    "<img src=\"img/microwave.png\" alt=\"CERN PS microwave instability measurements\" style=\"width:80%; margin:auto; margin-top: 1em;\" />\n",
    "\n",
    "<p style=\"font-size: small; text-align: right; margin-top:1em;\">image from <a href=\"https://accelconf.web.cern.ch/ipac2021/papers/wepab243.pdf\">A. Lasheen</a></p>\n",
    "\n",
    "$\\implies$ note the activity in the GHz range due to the enhancing perturbations (hence the name **microwave** instability)"
   ]
  },
  {
   "cell_type": "markdown",
   "id": "ac30a1f6",
   "metadata": {
    "slideshow": {
     "slide_type": "slide"
    }
   },
   "source": [
    "<h2>Summary</h2>\n",
    "\n",
    "- collective effects: direct Coulomb repulsion, indirect wall effects, vacuum effects, beam-beam interaction\n",
    "- transverse space charge: defocusing\n",
    "- $\\lambda'(z)$ model for longitudinal space charge\n",
    "- longitudinal space charge: defocusing below transition, focusing above transition\n",
    "- microwave instability: destroys longitudinal bunch structure <br />(high-frequency space-charge waves, enhancing of perturbations)"
   ]
  },
  {
   "cell_type": "markdown",
   "id": "139766d2",
   "metadata": {
    "slideshow": {
     "slide_type": "slide"
    }
   },
   "source": [
    "<h2>Literature</h2>\n",
    "\n",
    "- Martin Reiser, [Theory and Design of Charged Particle Beams](https://onlinelibrary.wiley.com/doi/book/10.1002/9783527622047), Chapter 5.4 (.7-.9 for longitudinal space-charge dynamics)\n",
    "- Elena Shaposhnikova, [Signatures of Microwave Instability](https://cds.cern.ch/record/381423/files/sl-99-008.pdf)"
   ]
  }
 ],
 "metadata": {
  "celltoolbar": "Slideshow",
  "kernelspec": {
   "display_name": "Python 3 (ipykernel)",
   "language": "python",
   "name": "python3"
  },
  "language_info": {
   "codemirror_mode": {
    "name": "ipython",
    "version": 3
   },
   "file_extension": ".py",
   "mimetype": "text/x-python",
   "name": "python",
   "nbconvert_exporter": "python",
   "pygments_lexer": "ipython3",
   "version": "3.8.0"
  },
  "rise": {
   "enable_chalkboard": true,
   "footer": "<p>Fachbereich Elektrotechnik und Informationstechnik (etit)   |   Institut für Teilchenbeschleunigung und Elektromagnetische Felder (TEMF)   |   Dr. Adrian Oeftiger</p>",
   "header": "<img src='https://upload.wikimedia.org/wikipedia/de/thumb/2/24/TU_Darmstadt_Logo.svg/640px-TU_Darmstadt_Logo.svg.png' />",
   "scroll": true,
   "theme": "simple",
   "transition": "none"
  }
 },
 "nbformat": 4,
 "nbformat_minor": 5
}
